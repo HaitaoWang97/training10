{
  "nbformat": 4,
  "nbformat_minor": 0,
  "metadata": {
    "colab": {
      "name": "Autograd.ipynb",
      "version": "0.3.2",
      "provenance": [],
      "collapsed_sections": []
    },
    "kernelspec": {
      "name": "python3",
      "display_name": "Python 3"
    },
    "accelerator": "GPU"
  },
  "cells": [
    {
      "cell_type": "code",
      "metadata": {
        "id": "UqgCUDkKRZhL",
        "colab_type": "code",
        "colab": {
          "base_uri": "https://localhost:8080/",
          "height": 50
        },
        "outputId": "aadaf1ca-9080-4f9c-8f06-00f5b1a07014"
      },
      "source": [
        "from torch.autograd import Variable\n",
        "import torch as t\n",
        "#使用Tensor新建Variable\n",
        "x = Variable(t.ones(2, 2), requires_grad = True)\n",
        "x"
      ],
      "execution_count": 2,
      "outputs": [
        {
          "output_type": "execute_result",
          "data": {
            "text/plain": [
              "tensor([[1., 1.],\n",
              "        [1., 1.]], requires_grad=True)"
            ]
          },
          "metadata": {
            "tags": []
          },
          "execution_count": 2
        }
      ]
    },
    {
      "cell_type": "code",
      "metadata": {
        "id": "OnEY2Wa6YFws",
        "colab_type": "code",
        "colab": {
          "base_uri": "https://localhost:8080/",
          "height": 34
        },
        "outputId": "8acc23f6-7d79-4f90-d384-0dd529a312ac"
      },
      "source": [
        "y = x.sum()\n",
        "y"
      ],
      "execution_count": 3,
      "outputs": [
        {
          "output_type": "execute_result",
          "data": {
            "text/plain": [
              "tensor(4., grad_fn=<SumBackward0>)"
            ]
          },
          "metadata": {
            "tags": []
          },
          "execution_count": 3
        }
      ]
    },
    {
      "cell_type": "code",
      "metadata": {
        "id": "QaVQj1TvYYUb",
        "colab_type": "code",
        "colab": {
          "base_uri": "https://localhost:8080/",
          "height": 50
        },
        "outputId": "31dccd36-0376-44da-dcd0-d55bfa83fc1c"
      },
      "source": [
        "y.backward()\n",
        "x.grad"
      ],
      "execution_count": 4,
      "outputs": [
        {
          "output_type": "execute_result",
          "data": {
            "text/plain": [
              "tensor([[1., 1.],\n",
              "        [1., 1.]])"
            ]
          },
          "metadata": {
            "tags": []
          },
          "execution_count": 4
        }
      ]
    },
    {
      "cell_type": "code",
      "metadata": {
        "id": "Rqgji7wPY1AD",
        "colab_type": "code",
        "colab": {
          "base_uri": "https://localhost:8080/",
          "height": 50
        },
        "outputId": "b9114117-7189-48a7-b85a-565c5506d09a"
      },
      "source": [
        "# grad在反向传递过程中是累加的，这要求每次反向传播前将梯度清零\n",
        "y.backward()\n",
        "x.grad"
      ],
      "execution_count": 5,
      "outputs": [
        {
          "output_type": "execute_result",
          "data": {
            "text/plain": [
              "tensor([[2., 2.],\n",
              "        [2., 2.]])"
            ]
          },
          "metadata": {
            "tags": []
          },
          "execution_count": 5
        }
      ]
    },
    {
      "cell_type": "code",
      "metadata": {
        "id": "NN-84G7PZTzE",
        "colab_type": "code",
        "colab": {
          "base_uri": "https://localhost:8080/",
          "height": 50
        },
        "outputId": "1c135b50-cca7-4836-fa34-03a37f3ef64f"
      },
      "source": [
        "#清零梯度\n",
        "x.grad.data.zero_()\n",
        "y.backward()\n",
        "x.grad"
      ],
      "execution_count": 6,
      "outputs": [
        {
          "output_type": "execute_result",
          "data": {
            "text/plain": [
              "tensor([[1., 1.],\n",
              "        [1., 1.]])"
            ]
          },
          "metadata": {
            "tags": []
          },
          "execution_count": 6
        }
      ]
    },
    {
      "cell_type": "code",
      "metadata": {
        "id": "5NV9XsLzZhJk",
        "colab_type": "code",
        "colab": {
          "base_uri": "https://localhost:8080/",
          "height": 151
        },
        "outputId": "528840bb-6ab2-48cc-c99a-a337be2fc0b7"
      },
      "source": [
        "#Variable和Tensor具有近乎一致的接口,可切换使用\n",
        "x = Variable(t.ones(4,5))\n",
        "y = t.cos(x)\n",
        "x_tensor_cos = t.cos(x.data)\n",
        "print(y)\n",
        "x_tensor_cos"
      ],
      "execution_count": 8,
      "outputs": [
        {
          "output_type": "stream",
          "text": [
            "tensor([[0.5403, 0.5403, 0.5403, 0.5403, 0.5403],\n",
            "        [0.5403, 0.5403, 0.5403, 0.5403, 0.5403],\n",
            "        [0.5403, 0.5403, 0.5403, 0.5403, 0.5403],\n",
            "        [0.5403, 0.5403, 0.5403, 0.5403, 0.5403]])\n"
          ],
          "name": "stdout"
        },
        {
          "output_type": "execute_result",
          "data": {
            "text/plain": [
              "tensor([[0.5403, 0.5403, 0.5403, 0.5403, 0.5403],\n",
              "        [0.5403, 0.5403, 0.5403, 0.5403, 0.5403],\n",
              "        [0.5403, 0.5403, 0.5403, 0.5403, 0.5403],\n",
              "        [0.5403, 0.5403, 0.5403, 0.5403, 0.5403]])"
            ]
          },
          "metadata": {
            "tags": []
          },
          "execution_count": 8
        }
      ]
    }
  ]
}